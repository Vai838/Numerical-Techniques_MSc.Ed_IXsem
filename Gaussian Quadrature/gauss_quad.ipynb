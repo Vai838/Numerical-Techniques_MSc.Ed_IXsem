{
 "cells": [
  {
   "cell_type": "code",
   "execution_count": 64,
   "id": "9af8e627-3b26-4b2c-b758-e0a033fb6383",
   "metadata": {},
   "outputs": [],
   "source": [
    "from scipy import integrate\n",
    "import numpy as np\n",
    "#We need to import the Scipy library first"
   ]
  },
  {
   "cell_type": "code",
   "execution_count": 65,
   "id": "a0a34224-52ef-49db-a396-c5107d804289",
   "metadata": {},
   "outputs": [],
   "source": [
    "# Define the function to be integrated\n",
    "\n",
    "f = lambda x: x**2 -1"
   ]
  },
  {
   "cell_type": "code",
   "execution_count": 66,
   "id": "1ff1569f-6a11-473b-9d23-f377330e50f1",
   "metadata": {},
   "outputs": [],
   "source": [
    "\"\"\"\n",
    "Use the quadrature function from the scipy integrate module.\n",
    "The quadrature function is used for Gaussian quadrature.\n",
    "It takes the function to be integrated (f), and the limits of integration (-1.0 and 1.0).\n",
    "\"\"\"\n",
    "result, error = (integrate.quadrature(f, -1.0, 1.0))"
   ]
  },
  {
   "cell_type": "code",
   "execution_count": 67,
   "id": "4496451d-dadf-4b99-ad0f-8a77668b5813",
   "metadata": {},
   "outputs": [
    {
     "name": "stdout",
     "output_type": "stream",
     "text": [
      "Result: -1.3333333333333328\n",
      "Error: 6.661338147750939e-16\n"
     ]
    }
   ],
   "source": [
    "# Print the result and error obtained from the integration\n",
    "\n",
    "print(\"Result:\", result)\n",
    "print(\"Error:\", error)"
   ]
  },
  {
   "cell_type": "code",
   "execution_count": null,
   "id": "55a0181b-ad89-4f13-a2b2-adb89bd244ea",
   "metadata": {},
   "outputs": [],
   "source": []
  },
  {
   "cell_type": "markdown",
   "id": "2345ee28-3e40-40ce-b777-752c0f7fd4f4",
   "metadata": {},
   "source": [
    "### Try this:"
   ]
  },
  {
   "cell_type": "code",
   "execution_count": 68,
   "id": "bbe24b96-9a41-4a01-a5b6-525f570c4157",
   "metadata": {},
   "outputs": [],
   "source": [
    "g = lambda x: np.exp(-x**2)"
   ]
  },
  {
   "cell_type": "code",
   "execution_count": 71,
   "id": "a7ae6b0c-bc75-40fe-ae93-a756c2be801d",
   "metadata": {},
   "outputs": [],
   "source": [
    "result, error = (integrate.quadrature(g, -1.0, 1.0))"
   ]
  },
  {
   "cell_type": "code",
   "execution_count": 72,
   "id": "1dccb38b-09a5-493e-a129-76e2e6a54d04",
   "metadata": {},
   "outputs": [
    {
     "name": "stdout",
     "output_type": "stream",
     "text": [
      "Result: 1.4936482656450036\n",
      "Error: 7.459892703565174e-10\n"
     ]
    }
   ],
   "source": [
    "print(\"Result:\", result)\n",
    "print(\"Error:\", error)"
   ]
  },
  {
   "cell_type": "code",
   "execution_count": null,
   "id": "9e76e74a-753f-452d-818d-75163f809532",
   "metadata": {},
   "outputs": [],
   "source": []
  }
 ],
 "metadata": {
  "kernelspec": {
   "display_name": "Python 3 (ipykernel)",
   "language": "python",
   "name": "python3"
  },
  "language_info": {
   "codemirror_mode": {
    "name": "ipython",
    "version": 3
   },
   "file_extension": ".py",
   "mimetype": "text/x-python",
   "name": "python",
   "nbconvert_exporter": "python",
   "pygments_lexer": "ipython3",
   "version": "3.9.17"
  }
 },
 "nbformat": 4,
 "nbformat_minor": 5
}
